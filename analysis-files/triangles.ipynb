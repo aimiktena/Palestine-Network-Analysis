{
 "cells": [
  {
   "cell_type": "code",
   "execution_count": 1,
   "metadata": {},
   "outputs": [],
   "source": [
    "import networkx as nx\n",
    "import pandas as pd"
   ]
  },
  {
   "cell_type": "code",
   "execution_count": 18,
   "metadata": {},
   "outputs": [
    {
     "name": "stdout",
     "output_type": "stream",
     "text": [
      "Global Triadic Closure: 0.008567345747167814\n"
     ]
    }
   ],
   "source": [
    "nodes_df = pd.read_csv(\"nodes.csv\") \n",
    "edges_df = pd.read_csv(\"edges_undirected.csv\")  \n",
    "\n",
    "G = nx.Graph()\n",
    "for index, row in nodes_df.iterrows():\n",
    "    G.add_node(row[\"Id\"], **row.to_dict())\n",
    "\n",
    "for index, row in edges_df.iterrows():\n",
    "    G.add_edge(row[\"source\"], row[\"target\"])\n",
    "\n",
    "global_triadic_closure = nx.transitivity(G)\n",
    "print(f\"Global Triadic Closure: {global_triadic_closure}\")"
   ]
  },
  {
   "cell_type": "code",
   "execution_count": 16,
   "metadata": {},
   "outputs": [
    {
     "data": {
      "text/html": [
       "<div>\n",
       "<style scoped>\n",
       "    .dataframe tbody tr th:only-of-type {\n",
       "        vertical-align: middle;\n",
       "    }\n",
       "\n",
       "    .dataframe tbody tr th {\n",
       "        vertical-align: top;\n",
       "    }\n",
       "\n",
       "    .dataframe thead th {\n",
       "        text-align: right;\n",
       "    }\n",
       "</style>\n",
       "<table border=\"1\" class=\"dataframe\">\n",
       "  <thead>\n",
       "    <tr style=\"text-align: right;\">\n",
       "      <th></th>\n",
       "      <th>Node</th>\n",
       "      <th>Clustering Coefficient</th>\n",
       "    </tr>\n",
       "  </thead>\n",
       "  <tbody>\n",
       "    <tr>\n",
       "      <th>623</th>\n",
       "      <td>did:plc:qiafot5ftuh5hcqs4apfkxc3</td>\n",
       "      <td>1.0</td>\n",
       "    </tr>\n",
       "    <tr>\n",
       "      <th>7232</th>\n",
       "      <td>did:plc:kh7js2apwqsxxfr73ed3ztli</td>\n",
       "      <td>1.0</td>\n",
       "    </tr>\n",
       "    <tr>\n",
       "      <th>580</th>\n",
       "      <td>did:plc:b7pjaoptfxxqf5imv7ua547p</td>\n",
       "      <td>1.0</td>\n",
       "    </tr>\n",
       "    <tr>\n",
       "      <th>581</th>\n",
       "      <td>did:plc:f6zmavbjhqh5g2qltobbfnuc</td>\n",
       "      <td>1.0</td>\n",
       "    </tr>\n",
       "    <tr>\n",
       "      <th>582</th>\n",
       "      <td>did:plc:pjvpykaxphs43wzol3irvvzz</td>\n",
       "      <td>1.0</td>\n",
       "    </tr>\n",
       "    <tr>\n",
       "      <th>...</th>\n",
       "      <td>...</td>\n",
       "      <td>...</td>\n",
       "    </tr>\n",
       "    <tr>\n",
       "      <th>3813</th>\n",
       "      <td>did:plc:oml3ytrbycbqi3drmhngbtjv</td>\n",
       "      <td>0.0</td>\n",
       "    </tr>\n",
       "    <tr>\n",
       "      <th>1614</th>\n",
       "      <td>did:plc:ci4fabkk4kuobrrvthzcxd42</td>\n",
       "      <td>0.0</td>\n",
       "    </tr>\n",
       "    <tr>\n",
       "      <th>1615</th>\n",
       "      <td>did:plc:r6wxaadynk3m7sqsyn3r3vrf</td>\n",
       "      <td>0.0</td>\n",
       "    </tr>\n",
       "    <tr>\n",
       "      <th>1616</th>\n",
       "      <td>did:plc:zd2xrecgi2uwl2q44op2rani</td>\n",
       "      <td>0.0</td>\n",
       "    </tr>\n",
       "    <tr>\n",
       "      <th>7620</th>\n",
       "      <td>did:plc:bmndmtg2b6blslyjdhh4yp7r</td>\n",
       "      <td>0.0</td>\n",
       "    </tr>\n",
       "  </tbody>\n",
       "</table>\n",
       "<p>7621 rows × 2 columns</p>\n",
       "</div>"
      ],
      "text/plain": [
       "                                  Node  Clustering Coefficient\n",
       "623   did:plc:qiafot5ftuh5hcqs4apfkxc3                     1.0\n",
       "7232  did:plc:kh7js2apwqsxxfr73ed3ztli                     1.0\n",
       "580   did:plc:b7pjaoptfxxqf5imv7ua547p                     1.0\n",
       "581   did:plc:f6zmavbjhqh5g2qltobbfnuc                     1.0\n",
       "582   did:plc:pjvpykaxphs43wzol3irvvzz                     1.0\n",
       "...                                ...                     ...\n",
       "3813  did:plc:oml3ytrbycbqi3drmhngbtjv                     0.0\n",
       "1614  did:plc:ci4fabkk4kuobrrvthzcxd42                     0.0\n",
       "1615  did:plc:r6wxaadynk3m7sqsyn3r3vrf                     0.0\n",
       "1616  did:plc:zd2xrecgi2uwl2q44op2rani                     0.0\n",
       "7620  did:plc:bmndmtg2b6blslyjdhh4yp7r                     0.0\n",
       "\n",
       "[7621 rows x 2 columns]"
      ]
     },
     "execution_count": 16,
     "metadata": {},
     "output_type": "execute_result"
    }
   ],
   "source": [
    "local_clustering = nx.clustering(G)\n",
    "\n",
    "local_clustering_df = pd.DataFrame(local_clustering.items(), columns=[\"Node\", \"Clustering Coefficient\"])\n",
    "local_clustering_df = local_clustering_df.sort_values(by=\"Clustering Coefficient\", ascending=False)\n",
    "local_clustering_df"
   ]
  },
  {
   "cell_type": "code",
   "execution_count": 17,
   "metadata": {},
   "outputs": [
    {
     "name": "stdout",
     "output_type": "stream",
     "text": [
      "Count of records with triadic closure = 1.0: 681\n",
      "Count of records with triadic closure = 0.0: 5658\n"
     ]
    }
   ],
   "source": [
    "count_1 = (local_clustering_df['Clustering Coefficient'] == 1.0).sum()\n",
    "count_0 = (local_clustering_df['Clustering Coefficient'] == 0.0).sum()\n",
    "\n",
    "print(f'Count of records with triadic closure = 1.0: {count_1}')\n",
    "print(f'Count of records with triadic closure = 0.0: {count_0}')"
   ]
  }
 ],
 "metadata": {
  "kernelspec": {
   "display_name": "Python 3",
   "language": "python",
   "name": "python3"
  },
  "language_info": {
   "codemirror_mode": {
    "name": "ipython",
    "version": 3
   },
   "file_extension": ".py",
   "mimetype": "text/x-python",
   "name": "python",
   "nbconvert_exporter": "python",
   "pygments_lexer": "ipython3",
   "version": "3.12.3"
  }
 },
 "nbformat": 4,
 "nbformat_minor": 2
}
