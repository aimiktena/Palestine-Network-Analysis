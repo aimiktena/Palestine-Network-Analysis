{
 "cells": [
  {
   "cell_type": "code",
   "execution_count": 3,
   "metadata": {},
   "outputs": [],
   "source": [
    "import networkx as nx\n",
    "import pandas as pd\n",
    "\n",
    "edges_df = pd.read_csv(\"edges.csv\") \n",
    "G = nx.Graph()\n",
    "for _, row in edges_df.iterrows():\n",
    "    G.add_edge(row[\"Source\"], row[\"Target\"])"
   ]
  },
  {
   "cell_type": "code",
   "execution_count": 9,
   "metadata": {},
   "outputs": [
    {
     "name": "stdout",
     "output_type": "stream",
     "text": [
      "Number of Bridges: 1875\n"
     ]
    }
   ],
   "source": [
    "bridges = list(nx.bridges(G))\n",
    "print(\"Number of Bridges:\", len(bridges))"
   ]
  },
  {
   "cell_type": "code",
   "execution_count": 10,
   "metadata": {},
   "outputs": [
    {
     "name": "stdout",
     "output_type": "stream",
     "text": [
      "Number of Local Bridges: 13181\n"
     ]
    }
   ],
   "source": [
    "local_bridges = list(nx.local_bridges(G))\n",
    "print(\"Number of Local Bridges:\", len(local_bridges))"
   ]
  },
  {
   "cell_type": "code",
   "execution_count": null,
   "metadata": {},
   "outputs": [],
   "source": [
    "# Save results to a CSV file\n",
    "bridges_df = pd.DataFrame(bridges, columns=[\"Source\", \"Target\"])\n",
    "local_bridges_df = pd.DataFrame(local_bridges, columns=[\"Source\", \"Target\"])\n",
    "bridges_df.to_csv(\"bridges.csv\", index=False)\n",
    "local_bridges_df.to_csv(\"local_bridges.csv\", index=False)"
   ]
  }
 ],
 "metadata": {
  "kernelspec": {
   "display_name": "Python 3",
   "language": "python",
   "name": "python3"
  },
  "language_info": {
   "codemirror_mode": {
    "name": "ipython",
    "version": 3
   },
   "file_extension": ".py",
   "mimetype": "text/x-python",
   "name": "python",
   "nbconvert_exporter": "python",
   "pygments_lexer": "ipython3",
   "version": "3.12.3"
  }
 },
 "nbformat": 4,
 "nbformat_minor": 2
}
